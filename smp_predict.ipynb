{
 "cells": [
  {
   "cell_type": "code",
   "execution_count": 103,
   "id": "caa52c17-bb2c-48e7-b59c-f86b6d9db0a9",
   "metadata": {},
   "outputs": [],
   "source": [
    "import yfinance as yf\n",
    "import pandas as pd\n",
    "from matplotlib import pyplot as plt\n",
    "import numpy as np\n"
   ]
  },
  {
   "cell_type": "code",
   "execution_count": 104,
   "id": "659f5dda-e743-45d0-b6e2-50b0fd3ace4a",
   "metadata": {},
   "outputs": [],
   "source": [
    "sp100 = yf.Ticker(\"^GSPC\")"
   ]
  },
  {
   "cell_type": "code",
   "execution_count": 105,
   "id": "8a80cd89-b429-45fd-a868-c8ad7b28d3cb",
   "metadata": {},
   "outputs": [
    {
     "data": {
      "text/plain": [
       "yfinance.Ticker object <^GSPC>"
      ]
     },
     "execution_count": 105,
     "metadata": {},
     "output_type": "execute_result"
    }
   ],
   "source": [
    "sp100"
   ]
  },
  {
   "cell_type": "code",
   "execution_count": 147,
   "id": "2e934222-50c2-45d4-ac91-ec22e2951106",
   "metadata": {},
   "outputs": [
    {
     "data": {
      "text/plain": [
       "DatetimeIndex(['1983-12-14 00:00:00-05:00', '1983-12-15 00:00:00-05:00',\n",
       "               '1983-12-16 00:00:00-05:00', '1983-12-19 00:00:00-05:00',\n",
       "               '1983-12-20 00:00:00-05:00', '1983-12-21 00:00:00-05:00',\n",
       "               '1983-12-22 00:00:00-05:00', '1983-12-23 00:00:00-05:00',\n",
       "               '1983-12-27 00:00:00-05:00', '1983-12-28 00:00:00-05:00',\n",
       "               ...\n",
       "               '2023-08-21 00:00:00-04:00', '2023-08-22 00:00:00-04:00',\n",
       "               '2023-08-23 00:00:00-04:00', '2023-08-24 00:00:00-04:00',\n",
       "               '2023-08-25 00:00:00-04:00', '2023-08-28 00:00:00-04:00',\n",
       "               '2023-08-29 00:00:00-04:00', '2023-08-30 00:00:00-04:00',\n",
       "               '2023-08-31 00:00:00-04:00', '2023-09-01 00:00:00-04:00'],\n",
       "              dtype='datetime64[ns, America/New_York]', name='Date', length=10011, freq=None)"
      ]
     },
     "execution_count": 147,
     "metadata": {},
     "output_type": "execute_result"
    }
   ],
   "source": [
    "sp100.index"
   ]
  },
  {
   "cell_type": "code",
   "execution_count": 109,
   "id": "bc7f0014-0032-4fb3-ba2c-a050db79a2c0",
   "metadata": {},
   "outputs": [],
   "source": [
    "sp100 = sp100.history(period=\"max\")\n"
   ]
  },
  {
   "cell_type": "code",
   "execution_count": 110,
   "id": "0217cf29-1420-4a06-8892-f8bf9e65bb94",
   "metadata": {},
   "outputs": [],
   "source": [
    "del sp100[\"Stock Splits\"]\n",
    "del sp100[\"Dividends\"]"
   ]
  },
  {
   "cell_type": "code",
   "execution_count": 111,
   "id": "a676b6b1-eed5-46cd-95d0-073b7f71d49b",
   "metadata": {},
   "outputs": [
    {
     "data": {
      "text/plain": [
       "<Axes: xlabel='Date'>"
      ]
     },
     "execution_count": 111,
     "metadata": {},
     "output_type": "execute_result"
    },
    {
     "data": {
      "image/png": "[encoded data removed]",
      "text/plain": [
       "<Figure size 640x480 with 1 Axes>"
      ]
     },
     "metadata": {},
     "output_type": "display_data"
    }
   ],
   "source": [
    "sp100.plot.line(y = \"Close\" , use_index = True)"
   ]
  },
  {
   "cell_type": "code",
   "execution_count": 112,
   "id": "27d80272-948b-4ff2-b962-d9c5534450d9",
   "metadata": {},
   "outputs": [],
   "source": [
    "sp100[\"Tomorrow\"] = sp100[\"Close\"].shift(-1)"
   ]
  },
  {
   "cell_type": "code",
   "execution_count": 113,
   "id": "21d32d9f-9b91-4c31-b14c-bc7f7ff96ad5",
   "metadata": {},
   "outputs": [
    {
     "data": {
      "text/html": [
       "<div>\n",
       "<style scoped>\n",
       "    .dataframe tbody tr th:only-of-type {\n",
       "        vertical-align: middle;\n",
       "    }\n",
       "\n",
       "    .dataframe tbody tr th {\n",
       "        vertical-align: top;\n",
       "    }\n",
       "\n",
       "    .dataframe thead th {\n",
       "        text-align: right;\n",
       "    }\n",
       "</style>\n",
       "<table border=\"1\" class=\"dataframe\">\n",
       "  <thead>\n",
       "    <tr style=\"text-align: right;\">\n",
       "      <th></th>\n",
       "      <th>Open</th>\n",
       "      <th>High</th>\n",
       "      <th>Low</th>\n",
       "      <th>Close</th>\n",
       "      <th>Volume</th>\n",
       "      <th>Tomorrow</th>\n",
       "    </tr>\n",
       "    <tr>\n",
       "      <th>Date</th>\n",
       "      <th></th>\n",
       "      <th></th>\n",
       "      <th></th>\n",
       "      <th></th>\n",
       "      <th></th>\n",
       "      <th></th>\n",
       "    </tr>\n",
       "  </thead>\n",
       "  <tbody>\n",
       "    <tr>\n",
       "      <th>1927-12-30 00:00:00-05:00</th>\n",
       "      <td>17.660000</td>\n",
       "      <td>17.660000</td>\n",
       "      <td>17.660000</td>\n",
       "      <td>17.660000</td>\n",
       "      <td>0</td>\n",
       "      <td>17.760000</td>\n",
       "    </tr>\n",
       "    <tr>\n",
       "      <th>1928-01-03 00:00:00-05:00</th>\n",
       "      <td>17.760000</td>\n",
       "      <td>17.760000</td>\n",
       "      <td>17.760000</td>\n",
       "      <td>17.760000</td>\n",
       "      <td>0</td>\n",
       "      <td>17.719999</td>\n",
       "    </tr>\n",
       "    <tr>\n",
       "      <th>1928-01-04 00:00:00-05:00</th>\n",
       "      <td>17.719999</td>\n",
       "      <td>17.719999</td>\n",
       "      <td>17.719999</td>\n",
       "      <td>17.719999</td>\n",
       "      <td>0</td>\n",
       "      <td>17.549999</td>\n",
       "    </tr>\n",
       "    <tr>\n",
       "      <th>1928-01-05 00:00:00-05:00</th>\n",
       "      <td>17.549999</td>\n",
       "      <td>17.549999</td>\n",
       "      <td>17.549999</td>\n",
       "      <td>17.549999</td>\n",
       "      <td>0</td>\n",
       "      <td>17.660000</td>\n",
       "    </tr>\n",
       "    <tr>\n",
       "      <th>1928-01-06 00:00:00-05:00</th>\n",
       "      <td>17.660000</td>\n",
       "      <td>17.660000</td>\n",
       "      <td>17.660000</td>\n",
       "      <td>17.660000</td>\n",
       "      <td>0</td>\n",
       "      <td>17.500000</td>\n",
       "    </tr>\n",
       "    <tr>\n",
       "      <th>...</th>\n",
       "      <td>...</td>\n",
       "      <td>...</td>\n",
       "      <td>...</td>\n",
       "      <td>...</td>\n",
       "      <td>...</td>\n",
       "      <td>...</td>\n",
       "    </tr>\n",
       "    <tr>\n",
       "      <th>2023-08-28 00:00:00-04:00</th>\n",
       "      <td>4426.029785</td>\n",
       "      <td>4439.560059</td>\n",
       "      <td>4414.979980</td>\n",
       "      <td>4433.310059</td>\n",
       "      <td>2957230000</td>\n",
       "      <td>4497.629883</td>\n",
       "    </tr>\n",
       "    <tr>\n",
       "      <th>2023-08-29 00:00:00-04:00</th>\n",
       "      <td>4432.750000</td>\n",
       "      <td>4500.140137</td>\n",
       "      <td>4431.680176</td>\n",
       "      <td>4497.629883</td>\n",
       "      <td>3354820000</td>\n",
       "      <td>4514.870117</td>\n",
       "    </tr>\n",
       "    <tr>\n",
       "      <th>2023-08-30 00:00:00-04:00</th>\n",
       "      <td>4500.339844</td>\n",
       "      <td>4521.649902</td>\n",
       "      <td>4493.589844</td>\n",
       "      <td>4514.870117</td>\n",
       "      <td>3064110000</td>\n",
       "      <td>4507.660156</td>\n",
       "    </tr>\n",
       "    <tr>\n",
       "      <th>2023-08-31 00:00:00-04:00</th>\n",
       "      <td>4517.009766</td>\n",
       "      <td>4532.259766</td>\n",
       "      <td>4507.390137</td>\n",
       "      <td>4507.660156</td>\n",
       "      <td>3946360000</td>\n",
       "      <td>4515.770020</td>\n",
       "    </tr>\n",
       "    <tr>\n",
       "      <th>2023-09-01 00:00:00-04:00</th>\n",
       "      <td>4530.600098</td>\n",
       "      <td>4541.250000</td>\n",
       "      <td>4501.350098</td>\n",
       "      <td>4515.770020</td>\n",
       "      <td>3246260000</td>\n",
       "      <td>NaN</td>\n",
       "    </tr>\n",
       "  </tbody>\n",
       "</table>\n",
       "<p>24033 rows × 6 columns</p>\n",
       "</div>"
      ],
      "text/plain": [
       "                                  Open         High          Low        Close  \\\n",
       "Date                                                                            \n",
       "1927-12-30 00:00:00-05:00    17.660000    17.660000    17.660000    17.660000   \n",
       "1928-01-03 00:00:00-05:00    17.760000    17.760000    17.760000    17.760000   \n",
       "1928-01-04 00:00:00-05:00    17.719999    17.719999    17.719999    17.719999   \n",
       "1928-01-05 00:00:00-05:00    17.549999    17.549999    17.549999    17.549999   \n",
       "1928-01-06 00:00:00-05:00    17.660000    17.660000    17.660000    17.660000   \n",
       "...                                ...          ...          ...          ...   \n",
       "2023-08-28 00:00:00-04:00  4426.029785  4439.560059  4414.979980  4433.310059   \n",
       "2023-08-29 00:00:00-04:00  4432.750000  4500.140137  4431.680176  4497.629883   \n",
       "2023-08-30 00:00:00-04:00  4500.339844  4521.649902  4493.589844  4514.870117   \n",
       "2023-08-31 00:00:00-04:00  4517.009766  4532.259766  4507.390137  4507.660156   \n",
       "2023-09-01 00:00:00-04:00  4530.600098  4541.250000  4501.350098  4515.770020   \n",
       "\n",
       "                               Volume     Tomorrow  \n",
       "Date                                                \n",
       "1927-12-30 00:00:00-05:00           0    17.760000  \n",
       "1928-01-03 00:00:00-05:00           0    17.719999  \n",
       "1928-01-04 00:00:00-05:00           0    17.549999  \n",
       "1928-01-05 00:00:00-05:00           0    17.660000  \n",
       "1928-01-06 00:00:00-05:00           0    17.500000  \n",
       "...                               ...          ...  \n",
       "2023-08-28 00:00:00-04:00  2957230000  4497.629883  \n",
       "2023-08-29 00:00:00-04:00  3354820000  4514.870117  \n",
       "2023-08-30 00:00:00-04:00  3064110000  4507.660156  \n",
       "2023-08-31 00:00:00-04:00  3946360000  4515.770020  \n",
       "2023-09-01 00:00:00-04:00  3246260000          NaN  \n",
       "\n",
       "[24033 rows x 6 columns]"
      ]
     },
     "execution_count": 113,
     "metadata": {},
     "output_type": "execute_result"
    }
   ],
   "source": [
    "sp100"
   ]
  },
  {
   "cell_type": "code",
   "execution_count": 114,
   "id": "6affc215-b275-4a79-bb84-20b555ae577e",
   "metadata": {},
   "outputs": [],
   "source": [
    "sp100[\"Target\"] = (sp100[\"Tomorrow\"] > sp100[\"Close\"]).astype(int)"
   ]
  },
  {
   "cell_type": "code",
   "execution_count": 115,
   "id": "221dacd9-041c-4548-923a-1536b3bcdd9e",
   "metadata": {},
   "outputs": [
    {
     "data": {
      "text/html": [
       "<div>\n",
       "<style scoped>\n",
       "    .dataframe tbody tr th:only-of-type {\n",
       "        vertical-align: middle;\n",
       "    }\n",
       "\n",
       "    .dataframe tbody tr th {\n",
       "        vertical-align: top;\n",
       "    }\n",
       "\n",
       "    .dataframe thead th {\n",
       "        text-align: right;\n",
       "    }\n",
       "</style>\n",
       "<table border=\"1\" class=\"dataframe\">\n",
       "  <thead>\n",
       "    <tr style=\"text-align: right;\">\n",
       "      <th></th>\n",
       "      <th>Open</th>\n",
       "      <th>High</th>\n",
       "      <th>Low</th>\n",
       "      <th>Close</th>\n",
       "      <th>Volume</th>\n",
       "      <th>Tomorrow</th>\n",
       "      <th>Target</th>\n",
       "    </tr>\n",
       "    <tr>\n",
       "      <th>Date</th>\n",
       "      <th></th>\n",
       "      <th></th>\n",
       "      <th></th>\n",
       "      <th></th>\n",
       "      <th></th>\n",
       "      <th></th>\n",
       "      <th></th>\n",
       "    </tr>\n",
       "  </thead>\n",
       "  <tbody>\n",
       "    <tr>\n",
       "      <th>1927-12-30 00:00:00-05:00</th>\n",
       "      <td>17.660000</td>\n",
       "      <td>17.660000</td>\n",
       "      <td>17.660000</td>\n",
       "      <td>17.660000</td>\n",
       "      <td>0</td>\n",
       "      <td>17.760000</td>\n",
       "      <td>1</td>\n",
       "    </tr>\n",
       "    <tr>\n",
       "      <th>1928-01-03 00:00:00-05:00</th>\n",
       "      <td>17.760000</td>\n",
       "      <td>17.760000</td>\n",
       "      <td>17.760000</td>\n",
       "      <td>17.760000</td>\n",
       "      <td>0</td>\n",
       "      <td>17.719999</td>\n",
       "      <td>0</td>\n",
       "    </tr>\n",
       "    <tr>\n",
       "      <th>1928-01-04 00:00:00-05:00</th>\n",
       "      <td>17.719999</td>\n",
       "      <td>17.719999</td>\n",
       "      <td>17.719999</td>\n",
       "      <td>17.719999</td>\n",
       "      <td>0</td>\n",
       "      <td>17.549999</td>\n",
       "      <td>0</td>\n",
       "    </tr>\n",
       "    <tr>\n",
       "      <th>1928-01-05 00:00:00-05:00</th>\n",
       "      <td>17.549999</td>\n",
       "      <td>17.549999</td>\n",
       "      <td>17.549999</td>\n",
       "      <td>17.549999</td>\n",
       "      <td>0</td>\n",
       "      <td>17.660000</td>\n",
       "      <td>1</td>\n",
       "    </tr>\n",
       "    <tr>\n",
       "      <th>1928-01-06 00:00:00-05:00</th>\n",
       "      <td>17.660000</td>\n",
       "      <td>17.660000</td>\n",
       "      <td>17.660000</td>\n",
       "      <td>17.660000</td>\n",
       "      <td>0</td>\n",
       "      <td>17.500000</td>\n",
       "      <td>0</td>\n",
       "    </tr>\n",
       "    <tr>\n",
       "      <th>...</th>\n",
       "      <td>...</td>\n",
       "      <td>...</td>\n",
       "      <td>...</td>\n",
       "      <td>...</td>\n",
       "      <td>...</td>\n",
       "      <td>...</td>\n",
       "      <td>...</td>\n",
       "    </tr>\n",
       "    <tr>\n",
       "      <th>2023-08-28 00:00:00-04:00</th>\n",
       "      <td>4426.029785</td>\n",
       "      <td>4439.560059</td>\n",
       "      <td>4414.979980</td>\n",
       "      <td>4433.310059</td>\n",
       "      <td>2957230000</td>\n",
       "      <td>4497.629883</td>\n",
       "      <td>1</td>\n",
       "    </tr>\n",
       "    <tr>\n",
       "      <th>2023-08-29 00:00:00-04:00</th>\n",
       "      <td>4432.750000</td>\n",
       "      <td>4500.140137</td>\n",
       "      <td>4431.680176</td>\n",
       "      <td>4497.629883</td>\n",
       "      <td>3354820000</td>\n",
       "      <td>4514.870117</td>\n",
       "      <td>1</td>\n",
       "    </tr>\n",
       "    <tr>\n",
       "      <th>2023-08-30 00:00:00-04:00</th>\n",
       "      <td>4500.339844</td>\n",
       "      <td>4521.649902</td>\n",
       "      <td>4493.589844</td>\n",
       "      <td>4514.870117</td>\n",
       "      <td>3064110000</td>\n",
       "      <td>4507.660156</td>\n",
       "      <td>0</td>\n",
       "    </tr>\n",
       "    <tr>\n",
       "      <th>2023-08-31 00:00:00-04:00</th>\n",
       "      <td>4517.009766</td>\n",
       "      <td>4532.259766</td>\n",
       "      <td>4507.390137</td>\n",
       "      <td>4507.660156</td>\n",
       "      <td>3946360000</td>\n",
       "      <td>4515.770020</td>\n",
       "      <td>1</td>\n",
       "    </tr>\n",
       "    <tr>\n",
       "      <th>2023-09-01 00:00:00-04:00</th>\n",
       "      <td>4530.600098</td>\n",
       "      <td>4541.250000</td>\n",
       "      <td>4501.350098</td>\n",
       "      <td>4515.770020</td>\n",
       "      <td>3246260000</td>\n",
       "      <td>NaN</td>\n",
       "      <td>0</td>\n",
       "    </tr>\n",
       "  </tbody>\n",
       "</table>\n",
       "<p>24033 rows × 7 columns</p>\n",
       "</div>"
      ],
      "text/plain": [
       "                                  Open         High          Low        Close  \\\n",
       "Date                                                                            \n",
       "1927-12-30 00:00:00-05:00    17.660000    17.660000    17.660000    17.660000   \n",
       "1928-01-03 00:00:00-05:00    17.760000    17.760000    17.760000    17.760000   \n",
       "1928-01-04 00:00:00-05:00    17.719999    17.719999    17.719999    17.719999   \n",
       "1928-01-05 00:00:00-05:00    17.549999    17.549999    17.549999    17.549999   \n",
       "1928-01-06 00:00:00-05:00    17.660000    17.660000    17.660000    17.660000   \n",
       "...                                ...          ...          ...          ...   \n",
       "2023-08-28 00:00:00-04:00  4426.029785  4439.560059  4414.979980  4433.310059   \n",
       "2023-08-29 00:00:00-04:00  4432.750000  4500.140137  4431.680176  4497.629883   \n",
       "2023-08-30 00:00:00-04:00  4500.339844  4521.649902  4493.589844  4514.870117   \n",
       "2023-08-31 00:00:00-04:00  4517.009766  4532.259766  4507.390137  4507.660156   \n",
       "2023-09-01 00:00:00-04:00  4530.600098  4541.250000  4501.350098  4515.770020   \n",
       "\n",
       "                               Volume     Tomorrow  Target  \n",
       "Date                                                        \n",
       "1927-12-30 00:00:00-05:00           0    17.760000       1  \n",
       "1928-01-03 00:00:00-05:00           0    17.719999       0  \n",
       "1928-01-04 00:00:00-05:00           0    17.549999       0  \n",
       "1928-01-05 00:00:00-05:00           0    17.660000       1  \n",
       "1928-01-06 00:00:00-05:00           0    17.500000       0  \n",
       "...                               ...          ...     ...  \n",
       "2023-08-28 00:00:00-04:00  2957230000  4497.629883       1  \n",
       "2023-08-29 00:00:00-04:00  3354820000  4514.870117       1  \n",
       "2023-08-30 00:00:00-04:00  3064110000  4507.660156       0  \n",
       "2023-08-31 00:00:00-04:00  3946360000  4515.770020       1  \n",
       "2023-09-01 00:00:00-04:00  3246260000          NaN       0  \n",
       "\n",
       "[24033 rows x 7 columns]"
      ]
     },
     "execution_count": 115,
     "metadata": {},
     "output_type": "execute_result"
    }
   ],
   "source": [
    "sp100"
   ]
  },
  {
   "cell_type": "code",
   "execution_count": 116,
   "id": "70b38fb9-f755-48d9-aad1-b5bcc22b4d2d",
   "metadata": {},
   "outputs": [],
   "source": [
    "sp100 = sp100.loc[\"1980-01-01\":].copy()"
   ]
  },
  {
   "cell_type": "code",
   "execution_count": 117,
   "id": "2ae2e7d0-b8ae-4caa-9216-76566652df45",
   "metadata": {},
   "outputs": [
    {
     "data": {
      "text/html": [
       "<div>\n",
       "<style scoped>\n",
       "    .dataframe tbody tr th:only-of-type {\n",
       "        vertical-align: middle;\n",
       "    }\n",
       "\n",
       "    .dataframe tbody tr th {\n",
       "        vertical-align: top;\n",
       "    }\n",
       "\n",
       "    .dataframe thead th {\n",
       "        text-align: right;\n",
       "    }\n",
       "</style>\n",
       "<table border=\"1\" class=\"dataframe\">\n",
       "  <thead>\n",
       "    <tr style=\"text-align: right;\">\n",
       "      <th></th>\n",
       "      <th>Open</th>\n",
       "      <th>High</th>\n",
       "      <th>Low</th>\n",
       "      <th>Close</th>\n",
       "      <th>Volume</th>\n",
       "      <th>Tomorrow</th>\n",
       "      <th>Target</th>\n",
       "    </tr>\n",
       "    <tr>\n",
       "      <th>Date</th>\n",
       "      <th></th>\n",
       "      <th></th>\n",
       "      <th></th>\n",
       "      <th></th>\n",
       "      <th></th>\n",
       "      <th></th>\n",
       "      <th></th>\n",
       "    </tr>\n",
       "  </thead>\n",
       "  <tbody>\n",
       "    <tr>\n",
       "      <th>1980-01-02 00:00:00-05:00</th>\n",
       "      <td>0.000000</td>\n",
       "      <td>108.430000</td>\n",
       "      <td>105.290001</td>\n",
       "      <td>105.760002</td>\n",
       "      <td>40610000</td>\n",
       "      <td>105.220001</td>\n",
       "      <td>0</td>\n",
       "    </tr>\n",
       "    <tr>\n",
       "      <th>1980-01-03 00:00:00-05:00</th>\n",
       "      <td>0.000000</td>\n",
       "      <td>106.080002</td>\n",
       "      <td>103.260002</td>\n",
       "      <td>105.220001</td>\n",
       "      <td>50480000</td>\n",
       "      <td>106.519997</td>\n",
       "      <td>1</td>\n",
       "    </tr>\n",
       "    <tr>\n",
       "      <th>1980-01-04 00:00:00-05:00</th>\n",
       "      <td>0.000000</td>\n",
       "      <td>107.080002</td>\n",
       "      <td>105.089996</td>\n",
       "      <td>106.519997</td>\n",
       "      <td>39130000</td>\n",
       "      <td>106.809998</td>\n",
       "      <td>1</td>\n",
       "    </tr>\n",
       "    <tr>\n",
       "      <th>1980-01-07 00:00:00-05:00</th>\n",
       "      <td>0.000000</td>\n",
       "      <td>107.800003</td>\n",
       "      <td>105.800003</td>\n",
       "      <td>106.809998</td>\n",
       "      <td>44500000</td>\n",
       "      <td>108.949997</td>\n",
       "      <td>1</td>\n",
       "    </tr>\n",
       "    <tr>\n",
       "      <th>1980-01-08 00:00:00-05:00</th>\n",
       "      <td>0.000000</td>\n",
       "      <td>109.290001</td>\n",
       "      <td>106.290001</td>\n",
       "      <td>108.949997</td>\n",
       "      <td>53390000</td>\n",
       "      <td>109.050003</td>\n",
       "      <td>1</td>\n",
       "    </tr>\n",
       "    <tr>\n",
       "      <th>...</th>\n",
       "      <td>...</td>\n",
       "      <td>...</td>\n",
       "      <td>...</td>\n",
       "      <td>...</td>\n",
       "      <td>...</td>\n",
       "      <td>...</td>\n",
       "      <td>...</td>\n",
       "    </tr>\n",
       "    <tr>\n",
       "      <th>2023-08-28 00:00:00-04:00</th>\n",
       "      <td>4426.029785</td>\n",
       "      <td>4439.560059</td>\n",
       "      <td>4414.979980</td>\n",
       "      <td>4433.310059</td>\n",
       "      <td>2957230000</td>\n",
       "      <td>4497.629883</td>\n",
       "      <td>1</td>\n",
       "    </tr>\n",
       "    <tr>\n",
       "      <th>2023-08-29 00:00:00-04:00</th>\n",
       "      <td>4432.750000</td>\n",
       "      <td>4500.140137</td>\n",
       "      <td>4431.680176</td>\n",
       "      <td>4497.629883</td>\n",
       "      <td>3354820000</td>\n",
       "      <td>4514.870117</td>\n",
       "      <td>1</td>\n",
       "    </tr>\n",
       "    <tr>\n",
       "      <th>2023-08-30 00:00:00-04:00</th>\n",
       "      <td>4500.339844</td>\n",
       "      <td>4521.649902</td>\n",
       "      <td>4493.589844</td>\n",
       "      <td>4514.870117</td>\n",
       "      <td>3064110000</td>\n",
       "      <td>4507.660156</td>\n",
       "      <td>0</td>\n",
       "    </tr>\n",
       "    <tr>\n",
       "      <th>2023-08-31 00:00:00-04:00</th>\n",
       "      <td>4517.009766</td>\n",
       "      <td>4532.259766</td>\n",
       "      <td>4507.390137</td>\n",
       "      <td>4507.660156</td>\n",
       "      <td>3946360000</td>\n",
       "      <td>4515.770020</td>\n",
       "      <td>1</td>\n",
       "    </tr>\n",
       "    <tr>\n",
       "      <th>2023-09-01 00:00:00-04:00</th>\n",
       "      <td>4530.600098</td>\n",
       "      <td>4541.250000</td>\n",
       "      <td>4501.350098</td>\n",
       "      <td>4515.770020</td>\n",
       "      <td>3246260000</td>\n",
       "      <td>NaN</td>\n",
       "      <td>0</td>\n",
       "    </tr>\n",
       "  </tbody>\n",
       "</table>\n",
       "<p>11011 rows × 7 columns</p>\n",
       "</div>"
      ],
      "text/plain": [
       "                                  Open         High          Low        Close  \\\n",
       "Date                                                                            \n",
       "1980-01-02 00:00:00-05:00     0.000000   108.430000   105.290001   105.760002   \n",
       "1980-01-03 00:00:00-05:00     0.000000   106.080002   103.260002   105.220001   \n",
       "1980-01-04 00:00:00-05:00     0.000000   107.080002   105.089996   106.519997   \n",
       "1980-01-07 00:00:00-05:00     0.000000   107.800003   105.800003   106.809998   \n",
       "1980-01-08 00:00:00-05:00     0.000000   109.290001   106.290001   108.949997   \n",
       "...                                ...          ...          ...          ...   \n",
       "2023-08-28 00:00:00-04:00  4426.029785  4439.560059  4414.979980  4433.310059   \n",
       "2023-08-29 00:00:00-04:00  4432.750000  4500.140137  4431.680176  4497.629883   \n",
       "2023-08-30 00:00:00-04:00  4500.339844  4521.649902  4493.589844  4514.870117   \n",
       "2023-08-31 00:00:00-04:00  4517.009766  4532.259766  4507.390137  4507.660156   \n",
       "2023-09-01 00:00:00-04:00  4530.600098  4541.250000  4501.350098  4515.770020   \n",
       "\n",
       "                               Volume     Tomorrow  Target  \n",
       "Date                                                        \n",
       "1980-01-02 00:00:00-05:00    40610000   105.220001       0  \n",
       "1980-01-03 00:00:00-05:00    50480000   106.519997       1  \n",
       "1980-01-04 00:00:00-05:00    39130000   106.809998       1  \n",
       "1980-01-07 00:00:00-05:00    44500000   108.949997       1  \n",
       "1980-01-08 00:00:00-05:00    53390000   109.050003       1  \n",
       "...                               ...          ...     ...  \n",
       "2023-08-28 00:00:00-04:00  2957230000  4497.629883       1  \n",
       "2023-08-29 00:00:00-04:00  3354820000  4514.870117       1  \n",
       "2023-08-30 00:00:00-04:00  3064110000  4507.660156       0  \n",
       "2023-08-31 00:00:00-04:00  3946360000  4515.770020       1  \n",
       "2023-09-01 00:00:00-04:00  3246260000          NaN       0  \n",
       "\n",
       "[11011 rows x 7 columns]"
      ]
     },
     "execution_count": 117,
     "metadata": {},
     "output_type": "execute_result"
    }
   ],
   "source": [
    "sp100"
   ]
  },
  {
   "cell_type": "code",
   "execution_count": 118,
   "id": "037efd52-5718-416b-8978-e05ed6be6218",
   "metadata": {},
   "outputs": [
    {
     "data": {
      "text/html": [
       "<style>#sk-container-id-6 {color: black;}#sk-container-id-6 pre{padding: 0;}#sk-container-id-6 div.sk-toggleable {background-color: white;}#sk-container-id-6 label.sk-toggleable__label {cursor: pointer;display: block;width: 100%;margin-bottom: 0;padding: 0.3em;box-sizing: border-box;text-align: center;}#sk-container-id-6 label.sk-toggleable__label-arrow:before {content: \"▸\";float: left;margin-right: 0.25em;color: #696969;}#sk-container-id-6 label.sk-toggleable__label-arrow:hover:before {color: black;}#sk-container-id-6 div.sk-estimator:hover label.sk-toggleable__label-arrow:before {color: black;}#sk-container-id-6 div.sk-toggleable__content {max-height: 0;max-width: 0;overflow: hidden;text-align: left;background-color: #f0f8ff;}#sk-container-id-6 div.sk-toggleable__content pre {margin: 0.2em;color: black;border-radius: 0.25em;background-color: #f0f8ff;}#sk-container-id-6 input.sk-toggleable__control:checked~div.sk-toggleable__content {max-height: 200px;max-width: 100%;overflow: auto;}#sk-container-id-6 input.sk-toggleable__control:checked~label.sk-toggleable__label-arrow:before {content: \"▾\";}#sk-container-id-6 div.sk-estimator input.sk-toggleable__control:checked~label.sk-toggleable__label {background-color: #d4ebff;}#sk-container-id-6 div.sk-label input.sk-toggleable__control:checked~label.sk-toggleable__label {background-color: #d4ebff;}#sk-container-id-6 input.sk-hidden--visually {border: 0;clip: rect(1px 1px 1px 1px);clip: rect(1px, 1px, 1px, 1px);height: 1px;margin: -1px;overflow: hidden;padding: 0;position: absolute;width: 1px;}#sk-container-id-6 div.sk-estimator {font-family: monospace;background-color: #f0f8ff;border: 1px dotted black;border-radius: 0.25em;box-sizing: border-box;margin-bottom: 0.5em;}#sk-container-id-6 div.sk-estimator:hover {background-color: #d4ebff;}#sk-container-id-6 div.sk-parallel-item::after {content: \"\";width: 100%;border-bottom: 1px solid gray;flex-grow: 1;}#sk-container-id-6 div.sk-label:hover label.sk-toggleable__label {background-color: #d4ebff;}#sk-container-id-6 div.sk-serial::before {content: \"\";position: absolute;border-left: 1px solid gray;box-sizing: border-box;top: 0;bottom: 0;left: 50%;z-index: 0;}#sk-container-id-6 div.sk-serial {display: flex;flex-direction: column;align-items: center;background-color: white;padding-right: 0.2em;padding-left: 0.2em;position: relative;}#sk-container-id-6 div.sk-item {position: relative;z-index: 1;}#sk-container-id-6 div.sk-parallel {display: flex;align-items: stretch;justify-content: center;background-color: white;position: relative;}#sk-container-id-6 div.sk-item::before, #sk-container-id-6 div.sk-parallel-item::before {content: \"\";position: absolute;border-left: 1px solid gray;box-sizing: border-box;top: 0;bottom: 0;left: 50%;z-index: -1;}#sk-container-id-6 div.sk-parallel-item {display: flex;flex-direction: column;z-index: 1;position: relative;background-color: white;}#sk-container-id-6 div.sk-parallel-item:first-child::after {align-self: flex-end;width: 50%;}#sk-container-id-6 div.sk-parallel-item:last-child::after {align-self: flex-start;width: 50%;}#sk-container-id-6 div.sk-parallel-item:only-child::after {width: 0;}#sk-container-id-6 div.sk-dashed-wrapped {border: 1px dashed gray;margin: 0 0.4em 0.5em 0.4em;box-sizing: border-box;padding-bottom: 0.4em;background-color: white;}#sk-container-id-6 div.sk-label label {font-family: monospace;font-weight: bold;display: inline-block;line-height: 1.2em;}#sk-container-id-6 div.sk-label-container {text-align: center;}#sk-container-id-6 div.sk-container {/* jupyter's `normalize.less` sets `[hidden] { display: none; }` but bootstrap.min.css set `[hidden] { display: none !important; }` so we also need the `!important` here to be able to override the default hidden behavior on the sphinx rendered scikit-learn.org. See: https://github.com/scikit-learn/scikit-learn/issues/21755 */display: inline-block !important;position: relative;}#sk-container-id-6 div.sk-text-repr-fallback {display: none;}</style><div id=\"sk-container-id-6\" class=\"sk-top-container\"><div class=\"sk-text-repr-fallback\"><pre>RandomForestClassifier(min_samples_split=100, random_state=1)</pre><b>In a Jupyter environment, please rerun this cell to show the HTML representation or trust the notebook. <br />On GitHub, the HTML representation is unable to render, please try loading this page with nbviewer.org.</b></div><div class=\"sk-container\" hidden><div class=\"sk-item\"><div class=\"sk-estimator sk-toggleable\"><input class=\"sk-toggleable__control sk-hidden--visually\" id=\"sk-estimator-id-6\" type=\"checkbox\" checked><label for=\"sk-estimator-id-6\" class=\"sk-toggleable__label sk-toggleable__label-arrow\">RandomForestClassifier</label><div class=\"sk-toggleable__content\"><pre>RandomForestClassifier(min_samples_split=100, random_state=1)</pre></div></div></div></div></div>"
      ],
      "text/plain": [
       "RandomForestClassifier(min_samples_split=100, random_state=1)"
      ]
     },
     "execution_count": 118,
     "metadata": {},
     "output_type": "execute_result"
    }
   ],
   "source": [
    "from sklearn.ensemble import RandomForestClassifier\n",
    "\n",
    "train_model = RandomForestClassifier(n_estimators=100, min_samples_split=100, random_state=1)\n",
    "\n",
    "train = sp100.iloc[:-100]\n",
    "test = sp100.iloc[-100:]\n",
    "\n",
    "predictors = [\"Close\", \"Volume\", \"Open\", \"High\", \"Low\"]\n",
    "train_model.fit(train[predictors], train[\"Target\"])"
   ]
  },
  {
   "cell_type": "code",
   "execution_count": 119,
   "id": "b85e6ce0-a73f-4507-b58a-8abbe5f81136",
   "metadata": {},
   "outputs": [
    {
     "data": {
      "text/html": [
       "<style>#sk-container-id-7 {color: black;}#sk-container-id-7 pre{padding: 0;}#sk-container-id-7 div.sk-toggleable {background-color: white;}#sk-container-id-7 label.sk-toggleable__label {cursor: pointer;display: block;width: 100%;margin-bottom: 0;padding: 0.3em;box-sizing: border-box;text-align: center;}#sk-container-id-7 label.sk-toggleable__label-arrow:before {content: \"▸\";float: left;margin-right: 0.25em;color: #696969;}#sk-container-id-7 label.sk-toggleable__label-arrow:hover:before {color: black;}#sk-container-id-7 div.sk-estimator:hover label.sk-toggleable__label-arrow:before {color: black;}#sk-container-id-7 div.sk-toggleable__content {max-height: 0;max-width: 0;overflow: hidden;text-align: left;background-color: #f0f8ff;}#sk-container-id-7 div.sk-toggleable__content pre {margin: 0.2em;color: black;border-radius: 0.25em;background-color: #f0f8ff;}#sk-container-id-7 input.sk-toggleable__control:checked~div.sk-toggleable__content {max-height: 200px;max-width: 100%;overflow: auto;}#sk-container-id-7 input.sk-toggleable__control:checked~label.sk-toggleable__label-arrow:before {content: \"▾\";}#sk-container-id-7 div.sk-estimator input.sk-toggleable__control:checked~label.sk-toggleable__label {background-color: #d4ebff;}#sk-container-id-7 div.sk-label input.sk-toggleable__control:checked~label.sk-toggleable__label {background-color: #d4ebff;}#sk-container-id-7 input.sk-hidden--visually {border: 0;clip: rect(1px 1px 1px 1px);clip: rect(1px, 1px, 1px, 1px);height: 1px;margin: -1px;overflow: hidden;padding: 0;position: absolute;width: 1px;}#sk-container-id-7 div.sk-estimator {font-family: monospace;background-color: #f0f8ff;border: 1px dotted black;border-radius: 0.25em;box-sizing: border-box;margin-bottom: 0.5em;}#sk-container-id-7 div.sk-estimator:hover {background-color: #d4ebff;}#sk-container-id-7 div.sk-parallel-item::after {content: \"\";width: 100%;border-bottom: 1px solid gray;flex-grow: 1;}#sk-container-id-7 div.sk-label:hover label.sk-toggleable__label {background-color: #d4ebff;}#sk-container-id-7 div.sk-serial::before {content: \"\";position: absolute;border-left: 1px solid gray;box-sizing: border-box;top: 0;bottom: 0;left: 50%;z-index: 0;}#sk-container-id-7 div.sk-serial {display: flex;flex-direction: column;align-items: center;background-color: white;padding-right: 0.2em;padding-left: 0.2em;position: relative;}#sk-container-id-7 div.sk-item {position: relative;z-index: 1;}#sk-container-id-7 div.sk-parallel {display: flex;align-items: stretch;justify-content: center;background-color: white;position: relative;}#sk-container-id-7 div.sk-item::before, #sk-container-id-7 div.sk-parallel-item::before {content: \"\";position: absolute;border-left: 1px solid gray;box-sizing: border-box;top: 0;bottom: 0;left: 50%;z-index: -1;}#sk-container-id-7 div.sk-parallel-item {display: flex;flex-direction: column;z-index: 1;position: relative;background-color: white;}#sk-container-id-7 div.sk-parallel-item:first-child::after {align-self: flex-end;width: 50%;}#sk-container-id-7 div.sk-parallel-item:last-child::after {align-self: flex-start;width: 50%;}#sk-container-id-7 div.sk-parallel-item:only-child::after {width: 0;}#sk-container-id-7 div.sk-dashed-wrapped {border: 1px dashed gray;margin: 0 0.4em 0.5em 0.4em;box-sizing: border-box;padding-bottom: 0.4em;background-color: white;}#sk-container-id-7 div.sk-label label {font-family: monospace;font-weight: bold;display: inline-block;line-height: 1.2em;}#sk-container-id-7 div.sk-label-container {text-align: center;}#sk-container-id-7 div.sk-container {/* jupyter's `normalize.less` sets `[hidden] { display: none; }` but bootstrap.min.css set `[hidden] { display: none !important; }` so we also need the `!important` here to be able to override the default hidden behavior on the sphinx rendered scikit-learn.org. See: https://github.com/scikit-learn/scikit-learn/issues/21755 */display: inline-block !important;position: relative;}#sk-container-id-7 div.sk-text-repr-fallback {display: none;}</style><div id=\"sk-container-id-7\" class=\"sk-top-container\"><div class=\"sk-text-repr-fallback\"><pre>RandomForestClassifier(min_samples_split=100, random_state=1)</pre><b>In a Jupyter environment, please rerun this cell to show the HTML representation or trust the notebook. <br />On GitHub, the HTML representation is unable to render, please try loading this page with nbviewer.org.</b></div><div class=\"sk-container\" hidden><div class=\"sk-item\"><div class=\"sk-estimator sk-toggleable\"><input class=\"sk-toggleable__control sk-hidden--visually\" id=\"sk-estimator-id-7\" type=\"checkbox\" checked><label for=\"sk-estimator-id-7\" class=\"sk-toggleable__label sk-toggleable__label-arrow\">RandomForestClassifier</label><div class=\"sk-toggleable__content\"><pre>RandomForestClassifier(min_samples_split=100, random_state=1)</pre></div></div></div></div></div>"
      ],
      "text/plain": [
       "RandomForestClassifier(min_samples_split=100, random_state=1)"
      ]
     },
     "execution_count": 119,
     "metadata": {},
     "output_type": "execute_result"
    }
   ],
   "source": [
    "RandomForestClassifier(min_samples_split=100, random_state=1)\n"
   ]
  },
  {
   "cell_type": "code",
   "execution_count": 120,
   "id": "ea8ca568-8d6f-4011-bd74-64e55ea0a89f",
   "metadata": {},
   "outputs": [],
   "source": [
    "from sklearn.metrics import precision_score\n",
    "\n",
    "preds = train_model.predict(test[predictors])\n"
   ]
  },
  {
   "cell_type": "code",
   "execution_count": 121,
   "id": "559f25a5-4570-48b6-8c8b-f79bb681f728",
   "metadata": {},
   "outputs": [
    {
     "data": {
      "text/plain": [
       "Date\n",
       "2023-04-12 00:00:00-04:00    0\n",
       "2023-04-13 00:00:00-04:00    0\n",
       "2023-04-14 00:00:00-04:00    1\n",
       "2023-04-17 00:00:00-04:00    1\n",
       "2023-04-18 00:00:00-04:00    0\n",
       "                            ..\n",
       "2023-08-28 00:00:00-04:00    0\n",
       "2023-08-29 00:00:00-04:00    0\n",
       "2023-08-30 00:00:00-04:00    0\n",
       "2023-08-31 00:00:00-04:00    1\n",
       "2023-09-01 00:00:00-04:00    0\n",
       "Length: 100, dtype: int32"
      ]
     },
     "execution_count": 121,
     "metadata": {},
     "output_type": "execute_result"
    }
   ],
   "source": [
    "preds = pd.Series(preds, index=test.index)\n",
    "preds"
   ]
  },
  {
   "cell_type": "code",
   "execution_count": 122,
   "id": "84dad662-9488-4e7c-8251-e567996d61a4",
   "metadata": {},
   "outputs": [
    {
     "data": {
      "text/plain": [
       "0.5757575757575758"
      ]
     },
     "execution_count": 122,
     "metadata": {},
     "output_type": "execute_result"
    }
   ],
   "source": [
    "precision_score(test[\"Target\"], preds)"
   ]
  },
  {
   "cell_type": "code",
   "execution_count": 123,
   "id": "2705ff1e-5776-4bbc-8371-ec19eeb96dc0",
   "metadata": {},
   "outputs": [
    {
     "data": {
      "text/plain": [
       "<Axes: xlabel='Date'>"
      ]
     },
     "execution_count": 123,
     "metadata": {},
     "output_type": "execute_result"
    },
    {
     "data": {
      "image/png": "[encoded data removed]",
      "text/plain": [
       "<Figure size 640x480 with 1 Axes>"
      ]
     },
     "metadata": {},
     "output_type": "display_data"
    }
   ],
   "source": [
    "combined = pd.concat([test[\"Target\"], preds], axis=1)\n",
    "combined.plot()"
   ]
  },
  {
   "cell_type": "code",
   "execution_count": 124,
   "id": "a87a2871-f0f9-4dd5-b419-4f8c2027f038",
   "metadata": {},
   "outputs": [],
   "source": [
    "def predict(train, test, predictors, model):\n",
    "    train_model.fit(train[predictors], train[\"Target\"])\n",
    "    preds = model.predict(test[predictors])\n",
    "    preds = pd.Series(preds, index=test.index, name=\"Predictions\")\n",
    "    combined = pd.concat([test[\"Target\"], preds], axis=1)\n",
    "    return combined"
   ]
  },
  {
   "cell_type": "code",
   "execution_count": 130,
   "id": "99f42de9-9915-4d23-bcf8-2ef502345d10",
   "metadata": {},
   "outputs": [],
   "source": [
    "def backtest(data, model, predictors, start=2500, step=250):\n",
    "    all_predictions = []\n",
    "\n",
    "    for i in range(start, data.shape[0], step):\n",
    "        train = data.iloc[0:i].copy()\n",
    "        test = data.iloc[i:(i+step)].copy()\n",
    "        predictions = predict(train, test, predictors, train_model)\n",
    "        all_predictions.append(predictions)\n",
    "    \n",
    "    return pd.concat(all_predictions)"
   ]
  },
  {
   "cell_type": "code",
   "execution_count": 131,
   "id": "c48e35ab-2808-40c5-81c6-09e686c298e8",
   "metadata": {},
   "outputs": [],
   "source": [
    "predictions = backtest(sp100, train_model, predictors)\n"
   ]
  },
  {
   "cell_type": "code",
   "execution_count": 132,
   "id": "f0ed6b3c-26eb-4529-9b91-b78ceea78e20",
   "metadata": {},
   "outputs": [
    {
     "data": {
      "text/plain": [
       "Predictions\n",
       "0    5322\n",
       "1    3189\n",
       "Name: count, dtype: int64"
      ]
     },
     "execution_count": 132,
     "metadata": {},
     "output_type": "execute_result"
    }
   ],
   "source": [
    "predictions[\"Predictions\"].value_counts()"
   ]
  },
  {
   "cell_type": "code",
   "execution_count": 133,
   "id": "ce1db375-9cc1-4885-9bb4-634acb3351ac",
   "metadata": {},
   "outputs": [
    {
     "data": {
      "text/plain": [
       "0.5296331138287864"
      ]
     },
     "execution_count": 133,
     "metadata": {},
     "output_type": "execute_result"
    }
   ],
   "source": [
    "precision_score(predictions[\"Target\"], predictions[\"Predictions\"])"
   ]
  },
  {
   "cell_type": "code",
   "execution_count": 135,
   "id": "5b65c269-5d4e-4d0e-a6a8-7455ada98381",
   "metadata": {},
   "outputs": [
    {
     "data": {
      "text/plain": [
       "<function sklearn.metrics._classification.precision_score(y_true, y_pred, *, labels=None, pos_label=1, average='binary', sample_weight=None, zero_division='warn')>"
      ]
     },
     "execution_count": 135,
     "metadata": {},
     "output_type": "execute_result"
    }
   ],
   "source": [
    "precision_score"
   ]
  },
  {
   "cell_type": "code",
   "execution_count": 136,
   "id": "c7a899a0-a0f3-496f-bb12-174735e7bd3a",
   "metadata": {},
   "outputs": [
    {
     "data": {
      "text/plain": [
       "Target\n",
       "1    0.534602\n",
       "0    0.465398\n",
       "Name: count, dtype: float64"
      ]
     },
     "execution_count": 136,
     "metadata": {},
     "output_type": "execute_result"
    }
   ],
   "source": [
    "predictions[\"Target\"].value_counts() / predictions.shape[0]"
   ]
  },
  {
   "cell_type": "code",
   "execution_count": 137,
   "id": "99fe9c17-a901-4237-b55a-81b154ab1feb",
   "metadata": {},
   "outputs": [],
   "source": [
    "horizons = [2,5,60,250,1000]\n",
    "new_predictors = []\n",
    "\n",
    "for horizon in horizons:\n",
    "    rolling_averages = sp100.rolling(horizon).mean()\n",
    "    \n",
    "    ratio_column = f\"Close_Ratio_{horizon}\"\n",
    "    sp100[ratio_column] = sp100[\"Close\"] / rolling_averages[\"Close\"]\n",
    "    \n",
    "    trend_column = f\"Trend_{horizon}\"\n",
    "    sp100[trend_column] = sp100.shift(1).rolling(horizon).sum()[\"Target\"]\n",
    "      \n",
    "    new_predictors+= [ratio_column, trend_column]\n",
    "    "
   ]
  },
  {
   "cell_type": "code",
   "execution_count": 138,
   "id": "6516c3d6-c0ce-4e31-92df-224591976123",
   "metadata": {},
   "outputs": [],
   "source": [
    "sp100 = sp100.dropna(subset=sp100.columns[sp100.columns != \"Tomorrow\"])"
   ]
  },
  {
   "cell_type": "code",
   "execution_count": 139,
   "id": "6ac41892-d957-402b-89d0-6eba742ce3f0",
   "metadata": {},
   "outputs": [
    {
     "data": {
      "text/html": [
       "<div>\n",
       "<style scoped>\n",
       "    .dataframe tbody tr th:only-of-type {\n",
       "        vertical-align: middle;\n",
       "    }\n",
       "\n",
       "    .dataframe tbody tr th {\n",
       "        vertical-align: top;\n",
       "    }\n",
       "\n",
       "    .dataframe thead th {\n",
       "        text-align: right;\n",
       "    }\n",
       "</style>\n",
       "<table border=\"1\" class=\"dataframe\">\n",
       "  <thead>\n",
       "    <tr style=\"text-align: right;\">\n",
       "      <th></th>\n",
       "      <th>Open</th>\n",
       "      <th>High</th>\n",
       "      <th>Low</th>\n",
       "      <th>Close</th>\n",
       "      <th>Volume</th>\n",
       "      <th>Tomorrow</th>\n",
       "      <th>Target</th>\n",
       "      <th>Close_Ratio_2</th>\n",
       "      <th>Trend_2</th>\n",
       "      <th>Close_Ratio_5</th>\n",
       "      <th>Trend_5</th>\n",
       "      <th>Close_Ratio_60</th>\n",
       "      <th>Trend_60</th>\n",
       "      <th>Close_Ratio_250</th>\n",
       "      <th>Trend_250</th>\n",
       "      <th>Close_Ratio_1000</th>\n",
       "      <th>Trend_1000</th>\n",
       "    </tr>\n",
       "    <tr>\n",
       "      <th>Date</th>\n",
       "      <th></th>\n",
       "      <th></th>\n",
       "      <th></th>\n",
       "      <th></th>\n",
       "      <th></th>\n",
       "      <th></th>\n",
       "      <th></th>\n",
       "      <th></th>\n",
       "      <th></th>\n",
       "      <th></th>\n",
       "      <th></th>\n",
       "      <th></th>\n",
       "      <th></th>\n",
       "      <th></th>\n",
       "      <th></th>\n",
       "      <th></th>\n",
       "      <th></th>\n",
       "    </tr>\n",
       "  </thead>\n",
       "  <tbody>\n",
       "    <tr>\n",
       "      <th>1983-12-14 00:00:00-05:00</th>\n",
       "      <td>164.929993</td>\n",
       "      <td>164.929993</td>\n",
       "      <td>163.250000</td>\n",
       "      <td>163.330002</td>\n",
       "      <td>85430000</td>\n",
       "      <td>161.660004</td>\n",
       "      <td>0</td>\n",
       "      <td>0.995126</td>\n",
       "      <td>0.0</td>\n",
       "      <td>0.990888</td>\n",
       "      <td>1.0</td>\n",
       "      <td>0.980833</td>\n",
       "      <td>30.0</td>\n",
       "      <td>1.022770</td>\n",
       "      <td>138.0</td>\n",
       "      <td>1.242921</td>\n",
       "      <td>508.0</td>\n",
       "    </tr>\n",
       "    <tr>\n",
       "      <th>1983-12-15 00:00:00-05:00</th>\n",
       "      <td>163.330002</td>\n",
       "      <td>163.330002</td>\n",
       "      <td>161.660004</td>\n",
       "      <td>161.660004</td>\n",
       "      <td>88300000</td>\n",
       "      <td>162.389999</td>\n",
       "      <td>1</td>\n",
       "      <td>0.994861</td>\n",
       "      <td>0.0</td>\n",
       "      <td>0.984987</td>\n",
       "      <td>1.0</td>\n",
       "      <td>0.971461</td>\n",
       "      <td>30.0</td>\n",
       "      <td>1.011728</td>\n",
       "      <td>137.0</td>\n",
       "      <td>1.229685</td>\n",
       "      <td>508.0</td>\n",
       "    </tr>\n",
       "    <tr>\n",
       "      <th>1983-12-16 00:00:00-05:00</th>\n",
       "      <td>161.690002</td>\n",
       "      <td>162.389999</td>\n",
       "      <td>161.580002</td>\n",
       "      <td>162.389999</td>\n",
       "      <td>81030000</td>\n",
       "      <td>162.320007</td>\n",
       "      <td>0</td>\n",
       "      <td>1.002253</td>\n",
       "      <td>1.0</td>\n",
       "      <td>0.992689</td>\n",
       "      <td>2.0</td>\n",
       "      <td>0.976569</td>\n",
       "      <td>30.0</td>\n",
       "      <td>1.015698</td>\n",
       "      <td>137.0</td>\n",
       "      <td>1.234713</td>\n",
       "      <td>508.0</td>\n",
       "    </tr>\n",
       "    <tr>\n",
       "      <th>1983-12-19 00:00:00-05:00</th>\n",
       "      <td>162.339996</td>\n",
       "      <td>162.880005</td>\n",
       "      <td>162.270004</td>\n",
       "      <td>162.320007</td>\n",
       "      <td>75180000</td>\n",
       "      <td>162.000000</td>\n",
       "      <td>0</td>\n",
       "      <td>0.999784</td>\n",
       "      <td>1.0</td>\n",
       "      <td>0.996281</td>\n",
       "      <td>1.0</td>\n",
       "      <td>0.976852</td>\n",
       "      <td>30.0</td>\n",
       "      <td>1.014686</td>\n",
       "      <td>136.0</td>\n",
       "      <td>1.233660</td>\n",
       "      <td>507.0</td>\n",
       "    </tr>\n",
       "    <tr>\n",
       "      <th>1983-12-20 00:00:00-05:00</th>\n",
       "      <td>162.330002</td>\n",
       "      <td>162.800003</td>\n",
       "      <td>161.639999</td>\n",
       "      <td>162.000000</td>\n",
       "      <td>83740000</td>\n",
       "      <td>163.559998</td>\n",
       "      <td>1</td>\n",
       "      <td>0.999013</td>\n",
       "      <td>0.0</td>\n",
       "      <td>0.997906</td>\n",
       "      <td>1.0</td>\n",
       "      <td>0.975716</td>\n",
       "      <td>29.0</td>\n",
       "      <td>1.012184</td>\n",
       "      <td>135.0</td>\n",
       "      <td>1.230731</td>\n",
       "      <td>506.0</td>\n",
       "    </tr>\n",
       "    <tr>\n",
       "      <th>...</th>\n",
       "      <td>...</td>\n",
       "      <td>...</td>\n",
       "      <td>...</td>\n",
       "      <td>...</td>\n",
       "      <td>...</td>\n",
       "      <td>...</td>\n",
       "      <td>...</td>\n",
       "      <td>...</td>\n",
       "      <td>...</td>\n",
       "      <td>...</td>\n",
       "      <td>...</td>\n",
       "      <td>...</td>\n",
       "      <td>...</td>\n",
       "      <td>...</td>\n",
       "      <td>...</td>\n",
       "      <td>...</td>\n",
       "      <td>...</td>\n",
       "    </tr>\n",
       "    <tr>\n",
       "      <th>2023-08-28 00:00:00-04:00</th>\n",
       "      <td>4426.029785</td>\n",
       "      <td>4439.560059</td>\n",
       "      <td>4414.979980</td>\n",
       "      <td>4433.310059</td>\n",
       "      <td>2957230000</td>\n",
       "      <td>4497.629883</td>\n",
       "      <td>1</td>\n",
       "      <td>1.003123</td>\n",
       "      <td>2.0</td>\n",
       "      <td>1.005793</td>\n",
       "      <td>3.0</td>\n",
       "      <td>0.999272</td>\n",
       "      <td>32.0</td>\n",
       "      <td>1.087216</td>\n",
       "      <td>120.0</td>\n",
       "      <td>1.150666</td>\n",
       "      <td>531.0</td>\n",
       "    </tr>\n",
       "    <tr>\n",
       "      <th>2023-08-29 00:00:00-04:00</th>\n",
       "      <td>4432.750000</td>\n",
       "      <td>4500.140137</td>\n",
       "      <td>4431.680176</td>\n",
       "      <td>4497.629883</td>\n",
       "      <td>3354820000</td>\n",
       "      <td>4514.870117</td>\n",
       "      <td>1</td>\n",
       "      <td>1.007202</td>\n",
       "      <td>2.0</td>\n",
       "      <td>1.015314</td>\n",
       "      <td>4.0</td>\n",
       "      <td>1.012951</td>\n",
       "      <td>32.0</td>\n",
       "      <td>1.102437</td>\n",
       "      <td>121.0</td>\n",
       "      <td>1.166900</td>\n",
       "      <td>532.0</td>\n",
       "    </tr>\n",
       "    <tr>\n",
       "      <th>2023-08-30 00:00:00-04:00</th>\n",
       "      <td>4500.339844</td>\n",
       "      <td>4521.649902</td>\n",
       "      <td>4493.589844</td>\n",
       "      <td>4514.870117</td>\n",
       "      <td>3064110000</td>\n",
       "      <td>4507.660156</td>\n",
       "      <td>0</td>\n",
       "      <td>1.001913</td>\n",
       "      <td>2.0</td>\n",
       "      <td>1.015589</td>\n",
       "      <td>4.0</td>\n",
       "      <td>1.015914</td>\n",
       "      <td>33.0</td>\n",
       "      <td>1.106056</td>\n",
       "      <td>122.0</td>\n",
       "      <td>1.170907</td>\n",
       "      <td>532.0</td>\n",
       "    </tr>\n",
       "    <tr>\n",
       "      <th>2023-08-31 00:00:00-04:00</th>\n",
       "      <td>4517.009766</td>\n",
       "      <td>4532.259766</td>\n",
       "      <td>4507.390137</td>\n",
       "      <td>4507.660156</td>\n",
       "      <td>3946360000</td>\n",
       "      <td>4515.770020</td>\n",
       "      <td>1</td>\n",
       "      <td>0.999201</td>\n",
       "      <td>1.0</td>\n",
       "      <td>1.008011</td>\n",
       "      <td>4.0</td>\n",
       "      <td>1.013441</td>\n",
       "      <td>32.0</td>\n",
       "      <td>1.103704</td>\n",
       "      <td>121.0</td>\n",
       "      <td>1.168580</td>\n",
       "      <td>531.0</td>\n",
       "    </tr>\n",
       "    <tr>\n",
       "      <th>2023-09-01 00:00:00-04:00</th>\n",
       "      <td>4530.600098</td>\n",
       "      <td>4541.250000</td>\n",
       "      <td>4501.350098</td>\n",
       "      <td>4515.770020</td>\n",
       "      <td>3246260000</td>\n",
       "      <td>NaN</td>\n",
       "      <td>0</td>\n",
       "      <td>1.000899</td>\n",
       "      <td>1.0</td>\n",
       "      <td>1.004878</td>\n",
       "      <td>4.0</td>\n",
       "      <td>1.014321</td>\n",
       "      <td>33.0</td>\n",
       "      <td>1.105050</td>\n",
       "      <td>122.0</td>\n",
       "      <td>1.170226</td>\n",
       "      <td>531.0</td>\n",
       "    </tr>\n",
       "  </tbody>\n",
       "</table>\n",
       "<p>10011 rows × 17 columns</p>\n",
       "</div>"
      ],
      "text/plain": [
       "                                  Open         High          Low        Close  \\\n",
       "Date                                                                            \n",
       "1983-12-14 00:00:00-05:00   164.929993   164.929993   163.250000   163.330002   \n",
       "1983-12-15 00:00:00-05:00   163.330002   163.330002   161.660004   161.660004   \n",
       "1983-12-16 00:00:00-05:00   161.690002   162.389999   161.580002   162.389999   \n",
       "1983-12-19 00:00:00-05:00   162.339996   162.880005   162.270004   162.320007   \n",
       "1983-12-20 00:00:00-05:00   162.330002   162.800003   161.639999   162.000000   \n",
       "...                                ...          ...          ...          ...   \n",
       "2023-08-28 00:00:00-04:00  4426.029785  4439.560059  4414.979980  4433.310059   \n",
       "2023-08-29 00:00:00-04:00  4432.750000  4500.140137  4431.680176  4497.629883   \n",
       "2023-08-30 00:00:00-04:00  4500.339844  4521.649902  4493.589844  4514.870117   \n",
       "2023-08-31 00:00:00-04:00  4517.009766  4532.259766  4507.390137  4507.660156   \n",
       "2023-09-01 00:00:00-04:00  4530.600098  4541.250000  4501.350098  4515.770020   \n",
       "\n",
       "                               Volume     Tomorrow  Target  Close_Ratio_2  \\\n",
       "Date                                                                        \n",
       "1983-12-14 00:00:00-05:00    85430000   161.660004       0       0.995126   \n",
       "1983-12-15 00:00:00-05:00    88300000   162.389999       1       0.994861   \n",
       "1983-12-16 00:00:00-05:00    81030000   162.320007       0       1.002253   \n",
       "1983-12-19 00:00:00-05:00    75180000   162.000000       0       0.999784   \n",
       "1983-12-20 00:00:00-05:00    83740000   163.559998       1       0.999013   \n",
       "...                               ...          ...     ...            ...   \n",
       "2023-08-28 00:00:00-04:00  2957230000  4497.629883       1       1.003123   \n",
       "2023-08-29 00:00:00-04:00  3354820000  4514.870117       1       1.007202   \n",
       "2023-08-30 00:00:00-04:00  3064110000  4507.660156       0       1.001913   \n",
       "2023-08-31 00:00:00-04:00  3946360000  4515.770020       1       0.999201   \n",
       "2023-09-01 00:00:00-04:00  3246260000          NaN       0       1.000899   \n",
       "\n",
       "                           Trend_2  Close_Ratio_5  Trend_5  Close_Ratio_60  \\\n",
       "Date                                                                         \n",
       "1983-12-14 00:00:00-05:00      0.0       0.990888      1.0        0.980833   \n",
       "1983-12-15 00:00:00-05:00      0.0       0.984987      1.0        0.971461   \n",
       "1983-12-16 00:00:00-05:00      1.0       0.992689      2.0        0.976569   \n",
       "1983-12-19 00:00:00-05:00      1.0       0.996281      1.0        0.976852   \n",
       "1983-12-20 00:00:00-05:00      0.0       0.997906      1.0        0.975716   \n",
       "...                            ...            ...      ...             ...   \n",
       "2023-08-28 00:00:00-04:00      2.0       1.005793      3.0        0.999272   \n",
       "2023-08-29 00:00:00-04:00      2.0       1.015314      4.0        1.012951   \n",
       "2023-08-30 00:00:00-04:00      2.0       1.015589      4.0        1.015914   \n",
       "2023-08-31 00:00:00-04:00      1.0       1.008011      4.0        1.013441   \n",
       "2023-09-01 00:00:00-04:00      1.0       1.004878      4.0        1.014321   \n",
       "\n",
       "                           Trend_60  Close_Ratio_250  Trend_250  \\\n",
       "Date                                                              \n",
       "1983-12-14 00:00:00-05:00      30.0         1.022770      138.0   \n",
       "1983-12-15 00:00:00-05:00      30.0         1.011728      137.0   \n",
       "1983-12-16 00:00:00-05:00      30.0         1.015698      137.0   \n",
       "1983-12-19 00:00:00-05:00      30.0         1.014686      136.0   \n",
       "1983-12-20 00:00:00-05:00      29.0         1.012184      135.0   \n",
       "...                             ...              ...        ...   \n",
       "2023-08-28 00:00:00-04:00      32.0         1.087216      120.0   \n",
       "2023-08-29 00:00:00-04:00      32.0         1.102437      121.0   \n",
       "2023-08-30 00:00:00-04:00      33.0         1.106056      122.0   \n",
       "2023-08-31 00:00:00-04:00      32.0         1.103704      121.0   \n",
       "2023-09-01 00:00:00-04:00      33.0         1.105050      122.0   \n",
       "\n",
       "                           Close_Ratio_1000  Trend_1000  \n",
       "Date                                                     \n",
       "1983-12-14 00:00:00-05:00          1.242921       508.0  \n",
       "1983-12-15 00:00:00-05:00          1.229685       508.0  \n",
       "1983-12-16 00:00:00-05:00          1.234713       508.0  \n",
       "1983-12-19 00:00:00-05:00          1.233660       507.0  \n",
       "1983-12-20 00:00:00-05:00          1.230731       506.0  \n",
       "...                                     ...         ...  \n",
       "2023-08-28 00:00:00-04:00          1.150666       531.0  \n",
       "2023-08-29 00:00:00-04:00          1.166900       532.0  \n",
       "2023-08-30 00:00:00-04:00          1.170907       532.0  \n",
       "2023-08-31 00:00:00-04:00          1.168580       531.0  \n",
       "2023-09-01 00:00:00-04:00          1.170226       531.0  \n",
       "\n",
       "[10011 rows x 17 columns]"
      ]
     },
     "execution_count": 139,
     "metadata": {},
     "output_type": "execute_result"
    }
   ],
   "source": [
    "sp100"
   ]
  },
  {
   "cell_type": "code",
   "execution_count": 140,
   "id": "dc91217e-a375-497a-9e9f-14528d23496b",
   "metadata": {},
   "outputs": [],
   "source": [
    "train_model = RandomForestClassifier(n_estimators=200, min_samples_split=50, random_state=1)"
   ]
  },
  {
   "cell_type": "code",
   "execution_count": 141,
   "id": "2745bbc5-5d02-487a-aca2-253b5b80e74d",
   "metadata": {},
   "outputs": [],
   "source": [
    "def predict(train, test, predictors, train_model):\n",
    "    train_model.fit(train[predictors], train[\"Target\"])\n",
    "    preds = train_model.predict_proba(test[predictors])[:,1]\n",
    "    preds[preds >=.6] = 1\n",
    "    preds[preds <.6] = 0\n",
    "    preds = pd.Series(preds, index=test.index, name=\"Predictions\")\n",
    "    combined = pd.concat([test[\"Target\"], preds], axis=1)\n",
    "    return combined"
   ]
  },
  {
   "cell_type": "code",
   "execution_count": 142,
   "id": "8ba24a71-6aeb-42fc-8bd0-1abdf7acd065",
   "metadata": {},
   "outputs": [],
   "source": [
    "predictions = backtest(sp100, train_model, new_predictors)"
   ]
  },
  {
   "cell_type": "code",
   "execution_count": 143,
   "id": "3b828cc0-ae4a-4c3e-89f9-0f08a7eb4975",
   "metadata": {},
   "outputs": [
    {
     "data": {
      "text/plain": [
       "Predictions\n",
       "0.0    6309\n",
       "1.0    1202\n",
       "Name: count, dtype: int64"
      ]
     },
     "execution_count": 143,
     "metadata": {},
     "output_type": "execute_result"
    }
   ],
   "source": [
    "predictions[\"Predictions\"].value_counts()"
   ]
  },
  {
   "cell_type": "code",
   "execution_count": 144,
   "id": "be04d6bd-4d28-434d-b7e4-ba559eb2e7c5",
   "metadata": {},
   "outputs": [
    {
     "data": {
      "text/plain": [
       "0.5682196339434277"
      ]
     },
     "execution_count": 144,
     "metadata": {},
     "output_type": "execute_result"
    }
   ],
   "source": [
    "precision_score(predictions[\"Target\"], predictions[\"Predictions\"])\n"
   ]
  },
  {
   "cell_type": "code",
   "execution_count": 145,
   "id": "b9d27253-e9b2-4d1d-a6f5-a06bfc34d12d",
   "metadata": {},
   "outputs": [
    {
     "data": {
      "text/plain": [
       "Target\n",
       "1    0.537212\n",
       "0    0.462788\n",
       "Name: count, dtype: float64"
      ]
     },
     "execution_count": 145,
     "metadata": {},
     "output_type": "execute_result"
    }
   ],
   "source": [
    "predictions[\"Target\"].value_counts() / predictions.shape[0]"
   ]
  },
  {
   "cell_type": "code",
   "execution_count": 146,
   "id": "c86fe3e8-e54e-402b-8b0f-afdc8b437090",
   "metadata": {},
   "outputs": [
    {
     "data": {
      "text/html": [
       "<div>\n",
       "<style scoped>\n",
       "    .dataframe tbody tr th:only-of-type {\n",
       "        vertical-align: middle;\n",
       "    }\n",
       "\n",
       "    .dataframe tbody tr th {\n",
       "        vertical-align: top;\n",
       "    }\n",
       "\n",
       "    .dataframe thead th {\n",
       "        text-align: right;\n",
       "    }\n",
       "</style>\n",
       "<table border=\"1\" class=\"dataframe\">\n",
       "  <thead>\n",
       "    <tr style=\"text-align: right;\">\n",
       "      <th></th>\n",
       "      <th>Target</th>\n",
       "      <th>Predictions</th>\n",
       "    </tr>\n",
       "    <tr>\n",
       "      <th>Date</th>\n",
       "      <th></th>\n",
       "      <th></th>\n",
       "    </tr>\n",
       "  </thead>\n",
       "  <tbody>\n",
       "    <tr>\n",
       "      <th>1993-11-03 00:00:00-05:00</th>\n",
       "      <td>0</td>\n",
       "      <td>0.0</td>\n",
       "    </tr>\n",
       "    <tr>\n",
       "      <th>1993-11-04 00:00:00-05:00</th>\n",
       "      <td>1</td>\n",
       "      <td>1.0</td>\n",
       "    </tr>\n",
       "    <tr>\n",
       "      <th>1993-11-05 00:00:00-05:00</th>\n",
       "      <td>1</td>\n",
       "      <td>0.0</td>\n",
       "    </tr>\n",
       "    <tr>\n",
       "      <th>1993-11-08 00:00:00-05:00</th>\n",
       "      <td>1</td>\n",
       "      <td>0.0</td>\n",
       "    </tr>\n",
       "    <tr>\n",
       "      <th>1993-11-09 00:00:00-05:00</th>\n",
       "      <td>1</td>\n",
       "      <td>0.0</td>\n",
       "    </tr>\n",
       "    <tr>\n",
       "      <th>...</th>\n",
       "      <td>...</td>\n",
       "      <td>...</td>\n",
       "    </tr>\n",
       "    <tr>\n",
       "      <th>2023-08-28 00:00:00-04:00</th>\n",
       "      <td>1</td>\n",
       "      <td>1.0</td>\n",
       "    </tr>\n",
       "    <tr>\n",
       "      <th>2023-08-29 00:00:00-04:00</th>\n",
       "      <td>1</td>\n",
       "      <td>0.0</td>\n",
       "    </tr>\n",
       "    <tr>\n",
       "      <th>2023-08-30 00:00:00-04:00</th>\n",
       "      <td>0</td>\n",
       "      <td>0.0</td>\n",
       "    </tr>\n",
       "    <tr>\n",
       "      <th>2023-08-31 00:00:00-04:00</th>\n",
       "      <td>1</td>\n",
       "      <td>0.0</td>\n",
       "    </tr>\n",
       "    <tr>\n",
       "      <th>2023-09-01 00:00:00-04:00</th>\n",
       "      <td>0</td>\n",
       "      <td>0.0</td>\n",
       "    </tr>\n",
       "  </tbody>\n",
       "</table>\n",
       "<p>7511 rows × 2 columns</p>\n",
       "</div>"
      ],
      "text/plain": [
       "                           Target  Predictions\n",
       "Date                                          \n",
       "1993-11-03 00:00:00-05:00       0          0.0\n",
       "1993-11-04 00:00:00-05:00       1          1.0\n",
       "1993-11-05 00:00:00-05:00       1          0.0\n",
       "1993-11-08 00:00:00-05:00       1          0.0\n",
       "1993-11-09 00:00:00-05:00       1          0.0\n",
       "...                           ...          ...\n",
       "2023-08-28 00:00:00-04:00       1          1.0\n",
       "2023-08-29 00:00:00-04:00       1          0.0\n",
       "2023-08-30 00:00:00-04:00       0          0.0\n",
       "2023-08-31 00:00:00-04:00       1          0.0\n",
       "2023-09-01 00:00:00-04:00       0          0.0\n",
       "\n",
       "[7511 rows x 2 columns]"
      ]
     },
     "execution_count": 146,
     "metadata": {},
     "output_type": "execute_result"
    }
   ],
   "source": [
    "predictions"
   ]
  },
  {
   "cell_type": "code",
   "execution_count": null,
   "id": "3c1c6bfa-2cfa-4820-b200-b390ffecc134",
   "metadata": {},
   "outputs": [],
   "source": []
  },
  {
   "cell_type": "code",
   "execution_count": null,
   "id": "566836b5-b307-4c0a-8fde-8508f244feb9",
   "metadata": {},
   "outputs": [],
   "source": []
  }
 ],
 "metadata": {
  "kernelspec": {
   "display_name": "Python 3 (ipykernel)",
   "language": "python",
   "name": "python3"
  },
  "language_info": {
   "codemirror_mode": {
    "name": "ipython",
    "version": 3
   },
   "file_extension": ".py",
   "mimetype": "text/x-python",
   "name": "python",
   "nbconvert_exporter": "python",
   "pygments_lexer": "ipython3",
   "version": "3.10.0"
  }
 },
 "nbformat": 4,
 "nbformat_minor": 5
}
